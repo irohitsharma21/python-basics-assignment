{
  "nbformat": 4,
  "nbformat_minor": 0,
  "metadata": {
    "colab": {
      "provenance": []
    },
    "kernelspec": {
      "name": "python3",
      "display_name": "Python 3"
    },
    "language_info": {
      "name": "python"
    }
  },
  "cells": [
    {
      "cell_type": "markdown",
      "source": [
        "                                 **ASSIGNMENT 1 (PYTHON BASICS )**"
      ],
      "metadata": {
        "id": "5_8amUT2kMxO"
      }
    },
    {
      "cell_type": "markdown",
      "source": [
        "Q1. What is Python, and why is it popular?\n",
        "\n",
        "-> Python is a high-level, interpreted programming language known for its readability and simplicity. It is popular due to:\n",
        "\n",
        "1. Easy-to-read syntax\n",
        "2. Large community support\n",
        "3. Extensive libraries for various domains (AI, web development, automation, etc.)\n",
        "4. Cross-platform compatibility"
      ],
      "metadata": {
        "id": "qU-4aDD5cHMz"
      }
    },
    {
      "cell_type": "markdown",
      "source": [
        "Q 2. What is an interpreter in Python?\n",
        "\n",
        "-> The Python interpreter is a program that executes Python code line by line, converting it into machine code that the computer can understand."
      ],
      "metadata": {
        "id": "e0cWbSsfcdKo"
      }
    },
    {
      "cell_type": "markdown",
      "source": [
        "Q 3. What are pre-defined keywords in Python?\n",
        "\n",
        "-> Pre-defined keywords are reserved words in Python that have special meanings, such as if, else, for, while, def, class, import, etc."
      ],
      "metadata": {
        "id": "vVD3kPtGc1ct"
      }
    },
    {
      "cell_type": "markdown",
      "source": [
        "Q 4. Can keywords be used as variable names?\n",
        "\n",
        "-> No, Python keywords cannot be used as variable names because they have predefined meanings and functionalities in the language."
      ],
      "metadata": {
        "id": "C4e6MA3CdFl5"
      }
    },
    {
      "cell_type": "markdown",
      "source": [
        "Q 5. What is mutability in Python?\n",
        "\n",
        "->Mutability refers to whether an object’s state (value) can be changed after it is created.\n",
        "\n",
        "Mutable objects: Can be changed (e.g., lists, dictionaries, sets).\n",
        "Immutable objects: Cannot be changed (e.g., tuples, strings, integers)."
      ],
      "metadata": {
        "id": "tSHbvRModSNP"
      }
    },
    {
      "cell_type": "markdown",
      "source": [
        "Q 6. Why are lists mutable, but tuples are immutable?\n",
        "\n",
        "->Lists are mutable because they store references to objects, allowing modifications.\n",
        "\n",
        "Tuples are immutable because they store fixed values, preventing accidental changes and ensuring data integrity."
      ],
      "metadata": {
        "id": "Cjy_w88Ghb5k"
      }
    },
    {
      "cell_type": "markdown",
      "source": [
        "Q 7. What is the difference between == and is operators in Python?\n",
        "\n",
        "-> == checks for value equality (whether two variables have the same value).\n",
        "\n",
        "is checks for identity equality (whether two variables point to the same memory location)."
      ],
      "metadata": {
        "id": "Nrzr51fghraP"
      }
    },
    {
      "cell_type": "markdown",
      "source": [
        "Q 8. What are logical operators in Python?\n",
        "\n",
        "-> Logical operators in Python are:\n",
        "\n",
        "and → Returns True if both conditions are true.\n",
        "\n",
        "or → Returns True if at least one condition is true.\n",
        "\n",
        "not → Reverses the boolean value."
      ],
      "metadata": {
        "id": "1KrAIIvnh-EQ"
      }
    },
    {
      "cell_type": "markdown",
      "source": [
        "Q 9. What is type casting in Python?\n",
        "\n",
        "-> Type casting is converting one data type into another. For example:"
      ],
      "metadata": {
        "id": "lux8fi2SiRpD"
      }
    },
    {
      "cell_type": "code",
      "source": [
        "num = \"100\"\n",
        "num_int = int(num)  # Converts string to integer\n"
      ],
      "metadata": {
        "id": "Qrg6bJ3pifEf"
      },
      "execution_count": null,
      "outputs": []
    },
    {
      "cell_type": "markdown",
      "source": [
        "Q 10. What is the difference between implicit and explicit type casting?\n",
        "\n",
        "-> Implicit casting: Done automatically by Python (e.g., int to float)."
      ],
      "metadata": {
        "id": "z_wj9W2piIk0"
      }
    },
    {
      "cell_type": "code",
      "source": [
        "num = 10   # int\n",
        "result = num + 2.5  # Python converts int to float automatically\n"
      ],
      "metadata": {
        "id": "vws_Duyoi0Q5"
      },
      "execution_count": null,
      "outputs": []
    },
    {
      "cell_type": "markdown",
      "source": [
        "Explicit casting: Done manually by the programme"
      ],
      "metadata": {
        "id": "Rjb7Xm4qh6e8"
      }
    },
    {
      "cell_type": "code",
      "source": [
        "num = \"100\"\n",
        "num_int = int(num)  # Explicit conversion"
      ],
      "metadata": {
        "id": "WEhbn8_li7iP"
      },
      "execution_count": null,
      "outputs": []
    },
    {
      "cell_type": "markdown",
      "source": [
        "Q 11. What is the purpose of conditional statements in Python?\n",
        "\n",
        "-> Conditional statements (if, elif, else) control the flow of execution based on conditions, enabling decision-making in programs."
      ],
      "metadata": {
        "id": "YHCyPZKIh34a"
      }
    },
    {
      "cell_type": "markdown",
      "source": [
        "Q 12. How does the elif statement work?\n",
        "\n",
        "-> The elif statement allows checking multiple conditions in an if block.\n",
        "\n",
        "If the first condition is false, it moves to elif, and if none are true, it executes else."
      ],
      "metadata": {
        "id": "XZQkDHHHjI6Z"
      }
    },
    {
      "cell_type": "code",
      "source": [
        "age = 20\n",
        "if age < 18:\n",
        "    print(\"Minor\")\n",
        "elif age < 65:\n",
        "    print(\"Adult\")\n",
        "else:\n",
        "    print(\"Senior\")\n"
      ],
      "metadata": {
        "id": "hatjXTs8jV4i"
      },
      "execution_count": null,
      "outputs": []
    },
    {
      "cell_type": "markdown",
      "source": [
        "Q 13. What is the difference between for and while loops?\n",
        "\n",
        "-> for loops iterate over a sequence (list, tuple, string).\n",
        "\n",
        "while loops execute repeatedly as long as a condition is True"
      ],
      "metadata": {
        "id": "sf0hU0tDjfNt"
      }
    },
    {
      "cell_type": "markdown",
      "source": [
        "Q 14. Describe a scenario where a while loop is more suitable than a for loop.\n",
        "\n",
        "-> A while loop is better when the number of iterations is unknown beforehand, like waiting for user input or handling real-time data."
      ],
      "metadata": {
        "id": "F2p6fwrTju-l"
      }
    },
    {
      "cell_type": "code",
      "source": [
        "password = \"\"\n",
        "while password != \"secret\":\n",
        "    password = input(\"Enter password: \")\n",
        "print(\"Access granted\")\n"
      ],
      "metadata": {
        "id": "wmw6y_ypjtGG"
      },
      "execution_count": null,
      "outputs": []
    },
    {
      "cell_type": "markdown",
      "source": [
        "                                    **PRACTICAL QUESTION **"
      ],
      "metadata": {
        "id": "yZfzors-kDPK"
      }
    },
    {
      "cell_type": "code",
      "source": [
        "# 1. Write a Python program to print \"Hello, World!\"\n",
        "\n",
        "print(\"Hello, World!\")\n"
      ],
      "metadata": {
        "id": "gxSFEG8BoRC-"
      },
      "execution_count": null,
      "outputs": []
    },
    {
      "cell_type": "code",
      "source": [
        "# 2. Write a Python program that displays your name and age\n",
        "\n",
        "name = \"Your Name\"\n",
        "age = 21\n",
        "print(\"Name:\", name)\n",
        "print(\"Age:\", age)\n"
      ],
      "metadata": {
        "id": "HBfh9-TyoSJc"
      },
      "execution_count": null,
      "outputs": []
    },
    {
      "cell_type": "code",
      "source": [
        "# 3. Write code to print all the pre-defined keywords in Python using the keyword library\n",
        "\n",
        "import keyword\n",
        "print(keyword.kwlist)\n"
      ],
      "metadata": {
        "id": "wt9OnbgKoSd8"
      },
      "execution_count": null,
      "outputs": []
    },
    {
      "cell_type": "code",
      "source": [
        "# 4. Write a program that checks if a given word is a Python keyword\n",
        "\n",
        "import keyword\n",
        "\n",
        "def is_keyword(word):\n",
        "    return word in keyword.kwlist\n",
        "\n",
        "word = input(\"Enter a word: \")\n",
        "print(f\"{word} is a keyword: {is_keyword(word)}\")\n"
      ],
      "metadata": {
        "id": "98SwG64zoSjE"
      },
      "execution_count": null,
      "outputs": []
    },
    {
      "cell_type": "code",
      "source": [
        "# 5. Create a list and tuple in Python, and demonstrate how attempting to change an element works differently for each\n",
        "\n",
        "my_list = [1, 2, 3]\n",
        "my_tuple = (1, 2, 3)\n",
        "\n",
        "my_list[0] = 100  # Lists are mutable, so this works\n",
        "\n",
        "try:\n",
        "    my_tuple[0] = 100  # Tuples are immutable, so this will raise an error\n",
        "except TypeError as e:\n",
        "    print(\"Error:\", e)\n",
        "\n",
        "print(\"List after modification:\", my_list)\n",
        "print(\"Tuple remains unchanged:\", my_tuple)\n"
      ],
      "metadata": {
        "id": "rLZl0BhRoSms"
      },
      "execution_count": null,
      "outputs": []
    },
    {
      "cell_type": "code",
      "source": [
        "# 6. Write a function to demonstrate the behavior of mutable and immutable arguments\n",
        "\n",
        "def modify_data(immutable, mutable):\n",
        "    immutable += 1  # Doesn't change original int\n",
        "    mutable.append(4)  # Modifies original list\n",
        "\n",
        "num = 10\n",
        "lst = [1, 2, 3]\n",
        "modify_data(num, lst)\n",
        "print(\"Immutable (int):\", num)  # Remains 10\n",
        "print(\"Mutable (list):\", lst)   # Changes to [1, 2, 3, 4]\n"
      ],
      "metadata": {
        "id": "k7vhjp3doSqj"
      },
      "execution_count": null,
      "outputs": []
    },
    {
      "cell_type": "code",
      "source": [
        "# 7. Write a program to demonstrate the use of logical operators\n",
        "\n",
        "a, b = True, False\n",
        "print(\"AND operation:\", a and b)  # False\n",
        "print(\"OR operation:\", a or b)    # True\n",
        "print(\"NOT operation:\", not a)    # False\n"
      ],
      "metadata": {
        "id": "3EkrP0upoSuh"
      },
      "execution_count": null,
      "outputs": []
    },
    {
      "cell_type": "code",
      "source": [
        "# 8. Write a Python program to convert user input from string to integer, float, and boolean types\n",
        "\n",
        "user_input = input(\"Enter a value: \")\n",
        "print(\"As Integer:\", int(user_input))\n",
        "print(\"As Float:\", float(user_input))\n",
        "print(\"As Boolean:\", bool(user_input))\n"
      ],
      "metadata": {
        "id": "s2MwHkfGoSyR"
      },
      "execution_count": null,
      "outputs": []
    },
    {
      "cell_type": "code",
      "source": [
        "# 9. Write code to demonstrate type casting with list elements\n",
        "\n",
        "str_list = [\"1\", \"2\", \"3\"]\n",
        "int_list = list(map(int, str_list))\n",
        "print(\"Converted list:\", int_list)\n"
      ],
      "metadata": {
        "id": "5Zqa4kfkoS2L"
      },
      "execution_count": null,
      "outputs": []
    },
    {
      "cell_type": "code",
      "source": [
        "# 10. Write a program that checks if a number is positive, negative, or zero\n",
        "\n",
        "num = int(input(\"Enter a number: \"))\n",
        "if num > 0:\n",
        "    print(\"Positive\")\n",
        "elif num < 0:\n",
        "    print(\"Negative\")\n",
        "else:\n",
        "    print(\"Zero\")\n"
      ],
      "metadata": {
        "id": "vSAXkonroS5r"
      },
      "execution_count": null,
      "outputs": []
    },
    {
      "cell_type": "code",
      "source": [
        "# 11. Write a for loop to print numbers from 1 to 100\n",
        "\n",
        "for i in range(1, 101):\n",
        "    print(i, end=\" \")\n",
        "\n",
        "print()  # To move to the next line after printing numbers\n"
      ],
      "metadata": {
        "id": "GZefgn79oS9i"
      },
      "execution_count": null,
      "outputs": []
    },
    {
      "cell_type": "code",
      "source": [
        "# 13. Write a Python program to find the sum of all even numbers between 1 and 500\n",
        "\n",
        "even_sum = sum(i for i in range(2, 501, 2))\n",
        "print(\"Sum of even numbers:\", even_sum)\n"
      ],
      "metadata": {
        "id": "ItlDnJyeoTBO"
      },
      "execution_count": null,
      "outputs": []
    },
    {
      "cell_type": "code",
      "source": [
        "# 14. Write a program to reverse a string using a while loop\n",
        "\n",
        "s = input(\"Enter a string: \")\n",
        "reversed_s = \"\"\n",
        "i = len(s) - 1\n",
        "while i >= 0:\n",
        "    reversed_s += s[i]\n",
        "    i -= 1\n",
        "print(\"Reversed string:\", reversed_s)\n"
      ],
      "metadata": {
        "id": "RNNqkRZUoTFK"
      },
      "execution_count": null,
      "outputs": []
    },
    {
      "cell_type": "code",
      "source": [
        "# 15. Write a Python program to calculate the factorial of a number provided by the user using a while loop\n",
        "\n",
        "num = int(input(\"Enter a number: \"))\n",
        "factorial = 1\n",
        "i = 1\n",
        "while i <= num:\n",
        "    factorial *= i\n",
        "    i += 1\n",
        "print(\"Factorial:\", factorial)\n"
      ],
      "metadata": {
        "colab": {
          "base_uri": "https://localhost:8080/"
        },
        "id": "bYUteb91oTI3",
        "outputId": "b735ff3a-955d-44e4-e041-a91395a1a0f6"
      },
      "execution_count": 1,
      "outputs": [
        {
          "output_type": "stream",
          "name": "stdout",
          "text": [
            "Factorial: 120\n"
          ]
        }
      ]
    },
    {
      "cell_type": "code",
      "source": [],
      "metadata": {
        "id": "shd3O9kqo0WD"
      },
      "execution_count": null,
      "outputs": []
    }
  ]
}
